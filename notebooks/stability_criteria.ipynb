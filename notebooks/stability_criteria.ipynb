{
 "cells": [
  {
   "cell_type": "markdown",
   "metadata": {},
   "source": [
    "# Stability Criteria for a Simple End-mirror Optomecanical System"
   ]
  },
  {
   "cell_type": "markdown",
   "metadata": {},
   "source": [
    "## Dependencies"
   ]
  },
  {
   "cell_type": "code",
   "execution_count": 1,
   "metadata": {},
   "outputs": [],
   "source": [
    "# dependencies\n",
    "from IPython.display import display, Math\n",
    "import sympy as sp\n",
    "import numpy as np"
   ]
  },
  {
   "cell_type": "markdown",
   "metadata": {},
   "source": [
    "## Variables"
   ]
  },
  {
   "cell_type": "code",
   "execution_count": 2,
   "metadata": {},
   "outputs": [],
   "source": [
    "# system parameters\n",
    "alpha, beta, Delta, g = sp.symbols('alpha, beta Delta g', real=True)                \n",
    "omega_m, kappa, gamma = sp.symbols('omega_m, kappa, gamma', real=True, positive=True)\n",
    "# others\n",
    "lamb = sp.symbols('lambda', real=True)\n",
    "# drift matrix\n",
    "num_modes = 2\n",
    "A = [[  -kappa/2,   Delta,      0,          0           ],\n",
    "    [   -Delta,     -kappa/2,   2*g,        0           ],\n",
    "    [   0,          0,          -gamma/2,   omega_m     ],\n",
    "    [   2*g,        0,          -omega_m,   -gamma/2    ]]\n",
    "A = sp.Matrix(A)"
   ]
  },
  {
   "cell_type": "markdown",
   "metadata": {},
   "source": [
    "## Solutions"
   ]
  },
  {
   "cell_type": "code",
   "execution_count": 3,
   "metadata": {},
   "outputs": [
    {
     "data": {
      "text/latex": [
       "$\\displaystyle \\frac{\\Delta^{2} \\gamma^{2}}{4} + \\Delta^{2} \\omega_{m}^{2} - 4 \\Delta g^{2} \\omega_{m} + \\frac{\\gamma^{2} \\kappa^{2}}{16} + \\frac{\\kappa^{2} \\omega_{m}^{2}}{4} + \\lambda^{4} + \\lambda^{3} \\left(\\gamma + \\kappa\\right) + \\lambda^{2} \\left(\\Delta^{2} + \\frac{\\gamma^{2}}{4} + \\gamma \\kappa + \\frac{\\kappa^{2}}{4} + \\omega_{m}^{2}\\right) + \\lambda \\left(\\Delta^{2} \\gamma + \\frac{\\gamma^{2} \\kappa}{4} + \\frac{\\gamma \\kappa^{2}}{4} + \\kappa \\omega_{m}^{2}\\right) = 0$"
      ],
      "text/plain": [
       "<IPython.core.display.Math object>"
      ]
     },
     "metadata": {},
     "output_type": "display_data"
    },
    {
     "data": {
      "text/latex": [
       "$\\displaystyle \\mathtt{\\text{a\\_0}} = 1$"
      ],
      "text/plain": [
       "<IPython.core.display.Math object>"
      ]
     },
     "metadata": {},
     "output_type": "display_data"
    },
    {
     "data": {
      "text/latex": [
       "$\\displaystyle \\mathtt{\\text{a\\_1}} = \\gamma + \\kappa$"
      ],
      "text/plain": [
       "<IPython.core.display.Math object>"
      ]
     },
     "metadata": {},
     "output_type": "display_data"
    },
    {
     "data": {
      "text/latex": [
       "$\\displaystyle \\mathtt{\\text{a\\_2}} = \\Delta^{2} + \\frac{\\gamma^{2}}{4} + \\gamma \\kappa + \\frac{\\kappa^{2}}{4} + \\omega_{m}^{2}$"
      ],
      "text/plain": [
       "<IPython.core.display.Math object>"
      ]
     },
     "metadata": {},
     "output_type": "display_data"
    },
    {
     "data": {
      "text/latex": [
       "$\\displaystyle \\mathtt{\\text{a\\_3}} = \\Delta^{2} \\gamma + \\frac{\\gamma^{2} \\kappa}{4} + \\frac{\\gamma \\kappa^{2}}{4} + \\kappa \\omega_{m}^{2}$"
      ],
      "text/plain": [
       "<IPython.core.display.Math object>"
      ]
     },
     "metadata": {},
     "output_type": "display_data"
    },
    {
     "data": {
      "text/latex": [
       "$\\displaystyle \\mathtt{\\text{a\\_4}} = \\frac{\\Delta^{2} \\gamma^{2}}{4} + \\Delta^{2} \\omega_{m}^{2} - 4 \\Delta g^{2} \\omega_{m} + \\frac{\\gamma^{2} \\kappa^{2}}{16} + \\frac{\\kappa^{2} \\omega_{m}^{2}}{4}$"
      ],
      "text/plain": [
       "<IPython.core.display.Math object>"
      ]
     },
     "metadata": {},
     "output_type": "display_data"
    }
   ],
   "source": [
    "# characteristic equation\n",
    "expr_char = (np.matrix(A) - lamb*sp.eye(2*num_modes)).det()\n",
    "# create a polynomial expression\n",
    "expr_lamb = expr_char.as_poly(lamb)\n",
    "# coefficients\n",
    "a = expr_lamb.coeffs()\n",
    "# display characteristic equation\n",
    "display(Math(sp.latex(expr_char.collect(lamb)) + ' = 0'))\n",
    "# display coefficients\n",
    "for i in range(len(a)):\n",
    "    display(Math(sp.latex('a_' + str(i)) + ' = ' + sp.latex(a[i])))"
   ]
  },
  {
   "cell_type": "code",
   "execution_count": 4,
   "metadata": {},
   "outputs": [
    {
     "data": {
      "text/latex": [
       "$\\displaystyle \\mathtt{\\text{T\\_0}} = 1$"
      ],
      "text/plain": [
       "<IPython.core.display.Math object>"
      ]
     },
     "metadata": {},
     "output_type": "display_data"
    },
    {
     "data": {
      "text/latex": [
       "$\\displaystyle \\mathtt{\\text{T\\_1}} = \\gamma + \\kappa$"
      ],
      "text/plain": [
       "<IPython.core.display.Math object>"
      ]
     },
     "metadata": {},
     "output_type": "display_data"
    },
    {
     "data": {
      "text/latex": [
       "$\\displaystyle \\mathtt{\\text{T\\_2}} = \\frac{4 \\Delta^{2} \\kappa + \\gamma^{3} + 4 \\gamma^{2} \\kappa + 4 \\gamma \\kappa^{2} + 4 \\gamma \\omega_{m}^{2} + \\kappa^{3}}{4}$"
      ],
      "text/plain": [
       "<IPython.core.display.Math object>"
      ]
     },
     "metadata": {},
     "output_type": "display_data"
    },
    {
     "data": {
      "text/latex": [
       "$\\displaystyle \\mathtt{\\text{T\\_3}} = \\frac{16 \\Delta^{4} \\gamma \\kappa + 8 \\Delta^{2} \\gamma^{3} \\kappa + 16 \\Delta^{2} \\gamma^{2} \\kappa^{2} + 8 \\Delta^{2} \\gamma \\kappa^{3} - 32 \\Delta^{2} \\gamma \\kappa \\omega_{m}^{2} + 64 \\Delta g^{2} \\gamma^{2} \\omega_{m} + 128 \\Delta g^{2} \\gamma \\kappa \\omega_{m} + 64 \\Delta g^{2} \\kappa^{2} \\omega_{m} + \\gamma^{5} \\kappa + 4 \\gamma^{4} \\kappa^{2} + 6 \\gamma^{3} \\kappa^{3} + 8 \\gamma^{3} \\kappa \\omega_{m}^{2} + 4 \\gamma^{2} \\kappa^{4} + 16 \\gamma^{2} \\kappa^{2} \\omega_{m}^{2} + \\gamma \\kappa^{5} + 8 \\gamma \\kappa^{3} \\omega_{m}^{2} + 16 \\gamma \\kappa \\omega_{m}^{4}}{16}$"
      ],
      "text/plain": [
       "<IPython.core.display.Math object>"
      ]
     },
     "metadata": {},
     "output_type": "display_data"
    },
    {
     "data": {
      "text/latex": [
       "$\\displaystyle \\mathtt{\\text{T\\_4}} = - \\frac{\\left(- 4 \\Delta^{2} \\gamma^{2} - 16 \\Delta^{2} \\omega_{m}^{2} + 64 \\Delta g^{2} \\omega_{m} - \\gamma^{2} \\kappa^{2} - 4 \\kappa^{2} \\omega_{m}^{2}\\right) \\left(16 \\Delta^{4} \\gamma \\kappa + 8 \\Delta^{2} \\gamma^{3} \\kappa + 16 \\Delta^{2} \\gamma^{2} \\kappa^{2} + 8 \\Delta^{2} \\gamma \\kappa^{3} - 32 \\Delta^{2} \\gamma \\kappa \\omega_{m}^{2} + 64 \\Delta g^{2} \\gamma^{2} \\omega_{m} + 128 \\Delta g^{2} \\gamma \\kappa \\omega_{m} + 64 \\Delta g^{2} \\kappa^{2} \\omega_{m} + \\gamma^{5} \\kappa + 4 \\gamma^{4} \\kappa^{2} + 6 \\gamma^{3} \\kappa^{3} + 8 \\gamma^{3} \\kappa \\omega_{m}^{2} + 4 \\gamma^{2} \\kappa^{4} + 16 \\gamma^{2} \\kappa^{2} \\omega_{m}^{2} + \\gamma \\kappa^{5} + 8 \\gamma \\kappa^{3} \\omega_{m}^{2} + 16 \\gamma \\kappa \\omega_{m}^{4}\\right)}{256}$"
      ],
      "text/plain": [
       "<IPython.core.display.Math object>"
      ]
     },
     "metadata": {},
     "output_type": "display_data"
    }
   ],
   "source": [
    "# get sequence\n",
    "T = []\n",
    "# first two terms\n",
    "T.append(a[0])\n",
    "T.append(a[1])\n",
    "# remaining terms\n",
    "for k in range(2, 2*num_modes + 1):\n",
    "    M = []\n",
    "    # for each row\n",
    "    for i in range(0, k):\n",
    "        temp = []\n",
    "        # for each element\n",
    "        for j in range(0, k):\n",
    "            if 2*(i + 1) - (j + 1) >= 0 and 2*(i + 1) - (j + 1) <= 2*num_modes:\n",
    "                temp.append(a[2*(i + 1) - (j + 1)])\n",
    "            else: \n",
    "                temp.append(0)\n",
    "        M.append(temp)\n",
    "    M = sp.Matrix(M)\n",
    "    T.append(M.det().factor())\n",
    "# display sequence\n",
    "for i in range(len(T)):\n",
    "    display(Math(sp.latex('T_' + str(i)) + ' = ' + sp.latex(T[i])))"
   ]
  },
  {
   "cell_type": "code",
   "execution_count": 5,
   "metadata": {},
   "outputs": [
    {
     "data": {
      "text/latex": [
       "$\\displaystyle \\Delta^{2} \\kappa + \\frac{\\gamma^{3}}{4} + \\gamma^{2} \\kappa + \\gamma \\kappa^{2} + \\gamma \\omega_{m}^{2} + \\frac{\\kappa^{3}}{4}$"
      ],
      "text/plain": [
       "<IPython.core.display.Math object>"
      ]
     },
     "metadata": {},
     "output_type": "display_data"
    },
    {
     "data": {
      "text/latex": [
       "$\\displaystyle 4 \\Delta^{2} \\gamma^{2} + 16 \\Delta^{2} \\omega_{m}^{2} - 64 \\Delta g^{2} \\omega_{m} + \\gamma^{2} \\kappa^{2} + 4 \\kappa^{2} \\omega_{m}^{2}$"
      ],
      "text/plain": [
       "<IPython.core.display.Math object>"
      ]
     },
     "metadata": {},
     "output_type": "display_data"
    }
   ],
   "source": [
    "# stability conditions\n",
    "expr_1 = T[2].simplify().collect(kappa + gamma)\n",
    "expr_2 = 16*(T[4]/T[3]).simplify()\n",
    "# display stability conditions\n",
    "display(Math(sp.latex(expr_1)))\n",
    "display(Math(sp.latex(expr_2)))"
   ]
  }
 ],
 "metadata": {
  "kernelspec": {
   "display_name": "qom",
   "language": "python",
   "name": "python3"
  },
  "language_info": {
   "codemirror_mode": {
    "name": "ipython",
    "version": 3
   },
   "file_extension": ".py",
   "mimetype": "text/x-python",
   "name": "python",
   "nbconvert_exporter": "python",
   "pygments_lexer": "ipython3",
   "version": "3.11.3"
  }
 },
 "nbformat": 4,
 "nbformat_minor": 2
}
